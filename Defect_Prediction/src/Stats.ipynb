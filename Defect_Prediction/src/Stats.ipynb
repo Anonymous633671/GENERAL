{
 "cells": [
  {
   "cell_type": "code",
   "execution_count": 146,
   "metadata": {},
   "outputs": [],
   "source": [
    "import pandas as pd\n",
    "import numpy as np\n",
    "import math\n",
    "import pickle\n",
    "from collections import Counter\n",
    "\n",
    "from sklearn.model_selection import train_test_split\n",
    "from sklearn.metrics import classification_report\n",
    "from sklearn.linear_model import LogisticRegression\n",
    "from sklearn.ensemble import RandomForestClassifier\n",
    "from sklearn import metrics\n",
    "from sklearn.naive_bayes import GaussianNB\n",
    "from sklearn.metrics import confusion_matrix\n",
    "from sklearn.model_selection import StratifiedKFold\n",
    "from sklearn.model_selection import KFold\n",
    "\n",
    "import random\n",
    "\n",
    "import platform\n",
    "from os import listdir\n",
    "from os.path import isfile, join\n",
    "from glob import glob\n",
    "from pathlib import Path\n",
    "import sys\n",
    "import os\n",
    "import copy\n",
    "import traceback\n",
    "import timeit\n",
    "\n",
    "\n",
    "\n",
    "import matplotlib.pyplot as plt\n",
    "\n",
    "import SMOTE\n",
    "import CFS\n",
    "import birch\n",
    "\n",
    "\n",
    "from multiprocessing import Pool, cpu_count\n",
    "from threading import Thread\n",
    "from multiprocessing import Queue\n",
    "\n",
    "import metrics\n",
    "\n",
    "import sys\n",
    "import traceback\n",
    "import warnings\n",
    "\n",
    "# Venn diag\n",
    "from matplotlib_venn import venn2, venn2_circles, venn2_unweighted\n",
    "from matplotlib_venn import venn3, venn3_circles\n",
    "from matplotlib import pyplot as plt\n",
    "%matplotlib inline\n",
    "\n",
    "import matplotlib.pyplot as plt\n",
    "import seaborn as sns\n",
    "warnings.filterwarnings(\"ignore\")"
   ]
  },
  {
   "cell_type": "markdown",
   "metadata": {},
   "source": [
    "# Stats"
   ]
  },
  {
   "cell_type": "code",
   "execution_count": 295,
   "metadata": {},
   "outputs": [],
   "source": [
    "goals = ['recall','precision','pf','pci_20','ifa','f1']\n",
    "all_results = {}\n",
    "for goal in goals:\n",
    "    if goal not in all_results.keys():\n",
    "        all_results[goal] = {}\n",
    "    results = {'GENERAL_0':[],\n",
    "             'GENERAL_1':[],\n",
    "             'GENERAL_2':[],\n",
    "             'bellwether':[],\n",
    "             'global':[],\n",
    "             'self':[],\n",
    "             'random':[]}\n",
    "    for i in range(10):\n",
    "        fold = str(i)\n",
    "        data_location = 'results/median_data/level_2/fold_' + fold\n",
    "        df = pd.read_csv(data_location + '/bellwether_' + goal + '.csv',index_col=0)\n",
    "        TPTL_perf = pd.read_csv(data_location + '/2PTL_results.csv',index_col=0)\n",
    "        for col in df.columns:\n",
    "            for val in df[col]:\n",
    "                if goal != 'ifa':\n",
    "                    results[col].append(val)\n",
    "                else:\n",
    "                    results[col].append(val)\n",
    "        results['TPTL'] = []\n",
    "        for val in TPTL_perf[goal].values.tolist():\n",
    "            if goal != 'ifa':\n",
    "                results['TPTL'].append(val)\n",
    "            else:\n",
    "                results['TPTL'].append(val)\n",
    "    all_results[goal] = results\n",
    "    with open('results/median_data/level_2/Stats/' + goal + '.txt', 'w') as f:\n",
    "        for key in results.keys():\n",
    "            if key == 'random':\n",
    "                continue\n",
    "            f.write(\"%s \\n\" % key)\n",
    "            for item in results[key]:\n",
    "                f.write(\"%s \" % (item))\n",
    "            f.write(\"\\n\\n\")"
   ]
  },
  {
   "cell_type": "code",
   "execution_count": null,
   "metadata": {},
   "outputs": [],
   "source": []
  },
  {
   "cell_type": "code",
   "execution_count": 293,
   "metadata": {},
   "outputs": [],
   "source": [
    "results = pd.DataFrame()\n",
    "row_1 = ['recall', 'precision', 'pf']\n",
    "for met in all_results.keys():\n",
    "    for model in all_results[met].keys():\n",
    "        data = all_results[met][model]\n",
    "        all_data = zip(data,[met]*len(data),[model]*len(data))\n",
    "        all_data_df = pd.DataFrame(all_data, columns = ['score','metric','model'])\n",
    "        all_data_df.sort_values(by = 'score', inplace = True)\n",
    "        results = pd.concat([results, all_data_df], axis = 0)\n",
    "# results = results[results['metric'] != 'ifa']\n",
    "results = results[results['metric'] != 'f1']"
   ]
  },
  {
   "cell_type": "code",
   "execution_count": 294,
   "metadata": {},
   "outputs": [
    {
     "data": {
      "image/png": "[encoded data removed]",
      "text/plain": [
       "<Figure size 1440x288 with 5 Axes>"
      ]
     },
     "metadata": {},
     "output_type": "display_data"
    }
   ],
   "source": [
    "g = sns.catplot(x=\"model\", y=\"score\" ,col='metric' ,height=4,kind=\"box\", \n",
    "                data=results, showfliers = False)\n",
    "g.set_xticklabels(rotation=30)\n",
    "[plt.setp(ax.texts, text=\"\") for ax in g.axes.flat]\n",
    "g.set_titles(row_template = '{row_name}', col_template = '{col_name}')\n",
    "g.savefig('results/median_data/images/pref1.pdf')"
   ]
  },
  {
   "cell_type": "code",
   "execution_count": null,
   "metadata": {},
   "outputs": [],
   "source": []
  }
 ],
 "metadata": {
  "kernelspec": {
   "display_name": "Python 3",
   "language": "python",
   "name": "python3"
  },
  "language_info": {
   "codemirror_mode": {
    "name": "ipython",
    "version": 3
   },
   "file_extension": ".py",
   "mimetype": "text/x-python",
   "name": "python",
   "nbconvert_exporter": "python",
   "pygments_lexer": "ipython3",
   "version": "3.8.3"
  }
 },
 "nbformat": 4,
 "nbformat_minor": 4
}
