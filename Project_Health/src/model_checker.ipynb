{
 "cells": [
  {
   "cell_type": "code",
   "execution_count": 55,
   "metadata": {},
   "outputs": [],
   "source": [
    "import pandas as pd\n",
    "import pickle as pkl\n",
    "import os\n",
    "from pathlib import Path\n",
    "\n",
    "from sklearn import tree\n",
    "\n",
    "import utils\n",
    "\n",
    "import matplotlib.pyplot as plt\n",
    "import graphviz"
   ]
  },
  {
   "cell_type": "code",
   "execution_count": 56,
   "metadata": {},
   "outputs": [],
   "source": [
    "def prepare_data(repo_name,directory,goal):\n",
    "    df_raw = pd.read_csv(directory + repo_name, sep=',')\n",
    "    df_raw = df_raw.drop(columns=['dates'])  \n",
    "    last_col = utils.get_goal(goal)\n",
    "    cols = list(df_raw.columns.values)\n",
    "    cols.remove(last_col)\n",
    "    df_adjust = df_raw[cols+[last_col]]\n",
    "    return df_adjust\n",
    "\n",
    "def plot_tree(clf,data,cluster_id, goal):\n",
    "    fig = plt.figure(figsize=(25,20))\n",
    "    _ = tree.plot_tree(clf, \n",
    "                       feature_names=data.columns[:-1],  \n",
    "                       filled=True)\n",
    "    data_store_path = '../results/graphs/' + goal + '/month_6_models/'\n",
    "    data_path = Path(data_store_path)\n",
    "    if not data_path.is_dir():\n",
    "        os.makedirs(data_path)\n",
    "    fig.savefig(data_store_path + 'cluster_' + str(cluster_id) + '.pdf')"
   ]
  },
  {
   "cell_type": "code",
   "execution_count": 108,
   "metadata": {},
   "outputs": [
    {
     "name": "stdout",
     "output_type": "stream",
     "text": [
      "Running Goal: monthly_commits\n",
      "Running Goal: monthly_contributors\n",
      "Running Goal: monthly_open_PRs\n",
      "Running Goal: monthly_closed_PRs\n",
      "Running Goal: monthly_open_issues\n",
      "Running Goal: monthly_closed_issues\n",
      "Running Goal: monthly_stargazer\n"
     ]
    }
   ],
   "source": [
    "goals = []\n",
    "feature_imp = pd.DataFrame()\n",
    "for i in range(7):\n",
    "    goal = utils.get_goal(i)\n",
    "    goals.append(goal)\n",
    "    print('Running Goal:', goal)\n",
    "    project = 'project0000.csv'\n",
    "    data = prepare_data(project,'../data/data_use/',i)\n",
    "    path = '../results/month_' + str(6) + '_models/' + goal\n",
    "    bell_df = pd.read_csv(path + '/bellwether_level_1.csv')\n",
    "    bell_df.drop('Unnamed: 0', axis = 1, inplace = True)\n",
    "    imp = []\n",
    "    for i in range(bell_df.shape[0]):\n",
    "        cluster_id = bell_df.iloc[i,0]\n",
    "        bellwether = bell_df.iloc[i,1]\n",
    "        with open(path + '/level_' + str(1) + '/cluster_' +  str(cluster_id) + '_performance_models.pkl', 'rb') as handle:\n",
    "            models = pkl.load(handle)\n",
    "        model = models[bellwether]\n",
    "#         plot_tree(model,data,cluster_id,goal)\n",
    "        f_imp = list(model.feature_importances_)\n",
    "        f_imp.append(cluster_id)\n",
    "        imp.append(f_imp)\n",
    "    cols = list(data.columns[:-1])\n",
    "    cols.append('cluster')\n",
    "    imp_df = round(pd.DataFrame(imp, columns = cols),2)\n",
    "#     print(imp_df.iloc[:,:-1].sum(axis = 1))\n",
    "    features = imp_df.iloc[:,:-1].sum(axis = 0)/imp_df.shape[0]\n",
    "    feature_imp = pd.concat([feature_imp,features], axis = 1)\n"
   ]
  },
  {
   "cell_type": "code",
   "execution_count": 110,
   "metadata": {},
   "outputs": [],
   "source": [
    "feature_imp.columns = goals"
   ]
  },
  {
   "cell_type": "code",
   "execution_count": 112,
   "metadata": {},
   "outputs": [],
   "source": [
    "feature_imp.to_csv('feature_imp.csv')"
   ]
  },
  {
   "cell_type": "code",
   "execution_count": null,
   "metadata": {},
   "outputs": [],
   "source": []
  }
 ],
 "metadata": {
  "kernelspec": {
   "display_name": "Python 3",
   "language": "python",
   "name": "python3"
  },
  "language_info": {
   "codemirror_mode": {
    "name": "ipython",
    "version": 3
   },
   "file_extension": ".py",
   "mimetype": "text/x-python",
   "name": "python",
   "nbconvert_exporter": "python",
   "pygments_lexer": "ipython3",
   "version": "3.8.3"
  }
 },
 "nbformat": 4,
 "nbformat_minor": 4
}
